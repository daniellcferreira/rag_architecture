{
  "nbformat": 4,
  "nbformat_minor": 0,
  "metadata": {
    "colab": {
      "provenance": []
    },
    "kernelspec": {
      "name": "python3",
      "display_name": "Python 3"
    },
    "language_info": {
      "name": "python"
    }
  },
  "cells": [
    {
      "cell_type": "code",
      "execution_count": 2,
      "metadata": {
        "colab": {
          "base_uri": "https://localhost:8080/"
        },
        "id": "1Nx7Cyj2BtJk",
        "outputId": "f7526891-17f8-4e42-e9c8-b4cfe99bf7b6"
      },
      "outputs": [
        {
          "output_type": "stream",
          "name": "stdout",
          "text": [
            "\u001b[?25l   \u001b[90m━━━━━━━━━━━━━━━━━━━━━━━━━━━━━━━━━━━━━━━━\u001b[0m \u001b[32m0.0/131.4 kB\u001b[0m \u001b[31m?\u001b[0m eta \u001b[36m-:--:--\u001b[0m\r\u001b[2K   \u001b[90m━━━━━━━━━━━━━━━━━━━━━━━━━━━━━━━━━━━━━━━━\u001b[0m \u001b[32m131.4/131.4 kB\u001b[0m \u001b[31m4.3 MB/s\u001b[0m eta \u001b[36m0:00:00\u001b[0m\n",
            "\u001b[?25h"
          ]
        }
      ],
      "source": [
        "# Instala a biblioteca oficial da Groq, que permite acessar os modelos LLM\n",
        "# disponíveis na nuvem da Groq (como LLaMA 3) de forma rápida e otimizada.\n",
        "!pip install -q groq\n",
        "\n",
        "# Instala a biblioteca \"wikipedia-api\", que facilita buscar e extrair textos\n",
        "# diretamente da Wikipedia em diferentes idiomas.\n",
        "!pip install -q wikipedia-api\n",
        "\n",
        "# Instala a biblioteca \"sentence-transformers\", que fornece modelos prontos\n",
        "# para gerar embeddings de frases e textos. Esses embeddings permitem realizar\n",
        "# busca semântica, similaridade textual e são fundamentais em arquiteturas RAG.\n",
        "!pip install -q sentence-transformers\n"
      ]
    },
    {
      "cell_type": "code",
      "source": [
        "# Biblioteca NumPy, usada para manipulação de arrays, cálculos numéricos\n",
        "# e operações matemáticas que podem ser úteis no processamento dos embeddings.\n",
        "import numpy as np\n",
        "\n",
        "# Biblioteca requests, usada para fazer requisições HTTP.\n",
        "# Pode ser útil caso você precise buscar dados de APIs externas além da Wikipedia.\n",
        "import requests\n",
        "\n",
        "# Biblioteca textwrap, utilizada para formatar e quebrar textos em blocos menores.\n",
        "# Isso ajuda na hora de exibir trechos recuperados da Wikipedia de forma legível.\n",
        "import textwrap\n",
        "\n",
        "# Módulo do Google Colab que permite acessar variáveis de ambiente salvas em userdata.\n",
        "# Aqui é usado geralmente para armazenar a API Key da Groq de forma segura.\n",
        "from google.colab import userdata\n",
        "\n",
        "# Cliente oficial da Groq, usado para interagir com os modelos LLM hospedados na Groq Cloud.\n",
        "from groq import Groq\n",
        "\n",
        "# Biblioteca SentenceTransformer, usada para gerar embeddings semânticos de sentenças e textos.\n",
        "# Essencial para a etapa de recuperação (retrieval) na arquitetura RAG.\n",
        "from sentence_transformers import SentenceTransformer\n",
        "\n",
        "# Biblioteca Wikipedia API, que permite buscar e extrair conteúdo da Wikipedia\n",
        "# em diferentes idiomas, fornecendo a base de conhecimento para o RAG.\n",
        "from wikipediaapi import Wikipedia"
      ],
      "metadata": {
        "id": "EoSBbET7ExlG"
      },
      "execution_count": 3,
      "outputs": []
    },
    {
      "cell_type": "code",
      "source": [
        "# Inicializa o cliente da Groq usando a chave de API armazenada no Google Colab.\n",
        "# O método userdata.get(\"GROQ_API_KEY\") busca a variável segura que você salvou\n",
        "# no Colab (Settings > Secrets), evitando expor a chave diretamente no código.\n",
        "client = Groq(api_key=userdata.get(\"GROQ_API_KEY\"))"
      ],
      "metadata": {
        "id": "2kPXz-LRFrvY"
      },
      "execution_count": 5,
      "outputs": []
    },
    {
      "cell_type": "code",
      "source": [
        "# Inicializa a instância da Wikipedia\n",
        "# \"RAGBot/0.0\" é o user-agent que identifica o seu bot para a Wikipedia\n",
        "# \"pt\" indica que vamos usar a versão em português da Wikipedia\n",
        "wiki = Wikipedia(\"RAGBot/0.0\", \"pt\")\n",
        "\n",
        "# Busca a página \"Ayrton Senna\" e pega todo o texto dela\n",
        "doc = wiki.page(\"Faustão\").text\n",
        "\n",
        "# Divide o texto em parágrafos, usando duplas quebras de linha como separador\n",
        "# Isso ajuda a criar \"chunks\" menores de texto para a etapa de recuperação (retrieval)\n",
        "paragraphs = doc.split(\"\\n\\n\")"
      ],
      "metadata": {
        "id": "P-kBOau7IODD"
      },
      "execution_count": 34,
      "outputs": []
    },
    {
      "cell_type": "code",
      "source": [
        "# Loop para percorrer todos os parágrafos recuperados da Wikipedia\n",
        "for i, p in enumerate(paragraphs):\n",
        "\n",
        "  # Formata o texto para quebrar linhas a cada 100 caracteres\n",
        "  # Isso deixa a exibição mais organizada no notebook\n",
        "  wrapped_text = textwrap.fill(p, width=100)\n",
        "\n",
        "  # Imprime uma linha separadora antes do parágrafo\n",
        "  print(\"-\" * 50)\n",
        "\n",
        "  # Imprime o parágrafo formatado\n",
        "  print(wrapped_text)\n",
        "\n",
        "  # Imprime outra linha separadora depois do parágrafo\n",
        "  print(\"-\" * 50)"
      ],
      "metadata": {
        "colab": {
          "base_uri": "https://localhost:8080/"
        },
        "id": "gLmJP3CiI1-A",
        "outputId": "3fabb23b-6924-4a85-bd35-53058a02de8d"
      },
      "execution_count": 35,
      "outputs": [
        {
          "output_type": "stream",
          "name": "stdout",
          "text": [
            "--------------------------------------------------\n",
            "Fausto Corrêa da Silva (São Paulo, 2 de maio de 1950), popularmente conhecido como Faustão, é um\n",
            "apresentador, jornalista e radialista brasileiro. É considerado um dos maiores animadores da\n",
            "história da televisão no Brasil. Iniciou a carreira na rádio como jornalista esportivo, tendo\n",
            "posteriormente seguido para a televisão, onde consagrou-se como apresentador e conquistou uma legião\n",
            "de fãs devido ao seu carisma, sinceridade e bom humor. Nascido na cidade de São Paulo em 1950, morou\n",
            "durante a infância em várias cidades do interior paulista, até se mudar com a família para Campinas,\n",
            "onde teve suas primeiras experiências como locutor nas rádios em 1964. Durante a década de 1960,\n",
            "trabalhou assiduamente como repórter esportivo nas rádios Excelsior e Globo, cobrindo os jogos\n",
            "narrados por Osmar Santos. No ramo esportivo, chegou a viajar para a América do Sul, Europa e Arábia\n",
            "Saudita, cobrindo duas Copas do Mundo e várias edições da Copa Libertadores da América. Foi\n",
            "convidado, também, para ser repórter especial do jornal O Estado de S. Paulo, função que exerceu até\n",
            "1984. Posteriormente, recebeu um convite de Blota Júnior, tornando-se repórter de um telejornal da\n",
            "TV Record e como apresentador de um programa na Rádio Record, ampliando assim sua área de atuação e\n",
            "passando a cobrir política e tragédias, como os incêndios do Edifício Andraus e do Edifício Joelma,\n",
            "em 1972 e 1974 respectivamente. Simultaneamente, volta ao mundo dos esportes como comentarista\n",
            "esportivo da Rádio Jovem Pan e do telejornal Bom Dia São Paulo, exibido pela TV Globo. As altas\n",
            "habilidades de improviso aprendidas na rádio e o raciocínio rápido de Fausto chamaram a atenção do\n",
            "jornalista Goulart de Andrade, que o convidou para participar de um quadro do Comando da Madrugada,\n",
            "na TV Gazeta. O quadro daria origem ao Perdidos na Noite, primeiro programa de auditório apresentado\n",
            "por Fausto, exibido pela Record e posteriormente pela Rede Bandeirantes. Considerado \"lendário\", o\n",
            "programa popularizou a imagem de Faustão, que ali consagrou-se como apresentador, abusando do humor\n",
            "depreciativo e conquistando a audiência com o estilo trash e \"bagunçado\" do programa. O sucesso\n",
            "chamou a atenção de outras emissoras, fazendo Fausto se transferir para a Globo em 1989, onde\n",
            "apresentou o Domingão do Faustão, exibido ininterruptamente ao longo de três décadas. Durante trinta\n",
            "e três anos, Fausto comandou quadros populares, conquistando o público com altas doses de humor,\n",
            "sinceridade e algumas gafes, o que também o tornou popular na internet. Em 2022, Faustão surpreendeu\n",
            "o público ao não renovar seu contrato com a Globo e trasferir-se novamente para a Bandeirantes,\n",
            "apresentando o diário Faustão na Band, sendo posteriormente substituído por seu filho João Guilherme\n",
            "na apresentação do programa.\n",
            "--------------------------------------------------\n",
            "--------------------------------------------------\n",
            "Biografia Filho do economista Amauri Correia Silva e da professora de idiomas Cordélia Moraes\n",
            "Correia Silva, Fausto Silva nasceu em São Paulo, no dia 2 de maio de 1950. Ele tem ascendência\n",
            "portuguesa.  Durante a infância, morou em diversas cidades no interior paulista. Em Araras, foi\n",
            "coroinha da igreja local, no tempo em que as missas ainda eram celebradas em latim, e considerou a\n",
            "ideia de tornar-se padre. Quando a família se mudou para Campinas, cursou o segundo grau no Colégio\n",
            "Estadual Culto à Ciência, onde foi colega de classe da atriz Regina Duarte. Ainda em Campinas, teve\n",
            "a primeira experiência profissional como locutor, em 1964, nas rádios Cultura e Brasil, transmitindo\n",
            "eventos como a procissão da Sexta-feira Santa, bailes de debutantes e tardes de autógrafos. Quando\n",
            "saiu do colégio, entrou para a Faculdade de Direito na PUC-SP, mas abandonou o curso no quarto ano.\n",
            "--------------------------------------------------\n",
            "--------------------------------------------------\n",
            "Carreira Início na rádio Iniciou sua carreira aos quatorze anos, como repórter da rádio Centenário\n",
            "de Araras, no interior de São Paulo. Logo depois, mudou-se para Campinas e trabalhou durante cinco\n",
            "anos na Rádio Cultura, na qual comandou o musical New Pop International. Em 1970, foi contratado\n",
            "pela Rádio Record, na capital paulista, para apresentar o jornal da noite, do qual era também\n",
            "redator, e se iniciou no mundo do esporte, passando a trabalhar como repórter de campo na Jovem Pan\n",
            "- Rádio Panamericana. Além do rádio, Faustão também se dedicou ao jornalismo, tendo sido contratado\n",
            "pelo jornal O Estado de S. Paulo, como reporter esportivo. Foi nessa função que foi levado para a\n",
            "Rádio Globo em 1977, convidado por Osmar Santos. Nessa época, Osmar Santos estava cursando a\n",
            "faculdade de Administração Pública na Fundação Getulio Vargas e tinha aulas com nomes destacados da\n",
            "política como Eduardo Suplicy e André Franco Montoro.\n",
            "--------------------------------------------------\n",
            "--------------------------------------------------\n",
            "Balancê Por obra do então diretor da Rádio Globo, Francisco Paes de Barros, e do chefe da equipe de\n",
            "esportes Edison Scatamachia, um horário foi conseguido na Rádio Excelsior para que Osmar Santos\n",
            "extravasasse esse entusiasmo com o programa Balancê, que recebia artistas de teatro e televisão,\n",
            "políticos, contava no humor com a dupla Nelson Francisco Alexandre, o \"Tatá\", e Carlos Roberto\n",
            "Escova, na apresentação, além de Osmar Santos, com os locutores Juarez Soares, Jorge de Sousa, Braga\n",
            "Júnior, Reynaldo Costa e o repórter Castilho de Andrade, na sonoplastia, com a lenda do rádio\n",
            "brasileiro, João Antônio de Sousa, o \"Johnny Black\", e na produção com Paulo Matiussi e Yara Peres.\n",
            "Fausto participava do programa como repórter ou assumindo a apresentação. Em 1983, com o maior\n",
            "envolvimento de Osmar Santos em projetos em televisão e a ida de Juarez Soares para a TV\n",
            "Bandeirantes, Fausto se torna o primeiro apresentador do Balancê, acentuando o lado cômico com seu\n",
            "jeito escrachado, junto com a dupla de humoristas. Nessa época, assume a produção do programa a\n",
            "então secretária de Osmar Santos, ex-telefonista da Rádio Globo, Lucimara Parisi, e o jornalista\n",
            "Odir Cunha. Em outubro desse mesmo ano, o Balancê passa a ser transmitido com auditório, da lendária\n",
            "Palhaçaria Pimpão, no bairro de Santa Cecília, em São Paulo,  Com a coordenação de produção de Mario\n",
            "Jorge Farath Miguel e o escracho e a diversão tomam conta do programa, que não deixa de receber\n",
            "artistas e políticos.\n",
            "--------------------------------------------------\n",
            "--------------------------------------------------\n",
            "Perdidos na Noite Em janeiro de 1984, Goulart de Andrade visitou o Balancê. Impressionado, propôs a\n",
            "Fausto e toda a equipe a passagem do programa para a TV. Em março desse ano, foi ao ar pela TV\n",
            "Gazeta o Perdidos na Noite (nome em português do filme Midnight Cowboy, com participação de Jon\n",
            "Voight e Dustin Hoffman) em horário comprado por Goulart de Andrade. Em setembro, o programa passou\n",
            "para a TV Record, e, em pouco tempo, se desvinculou de Goulart de Andrade para assumir uma direção\n",
            "própria. Em 1986, o Perdidos na Noite passou a ser transmitido pela TV Bandeirantes para todo o\n",
            "Brasil, sendo que antes era só transmitido para São Paulo. Na mesma emissora, Fausto chegou a\n",
            "apresentar o programa Safenados e Safadinhos.\n",
            "--------------------------------------------------\n",
            "--------------------------------------------------\n",
            "Domingão do Faustão Em 26 de março de 1989, estreou na TV Globo como apresentador do programa de\n",
            "auditório Domingão do Faustão, nas tardes de domingo, com a participação de Caçulinha e Lucimara\n",
            "Parisi até 2009. O programa foi um dos que ficou mais tempo em produção pela emissora. Em maio de\n",
            "2008, chegou à milésima edição, sendo uma das atrações de maior faturamento para o canal. Em maio de\n",
            "2021 Fausto Silva assinou um contrato de cinco anos com a Rede Bandeirantes, com estreia prevista\n",
            "para janeiro de 2022. Em 17 de junho de 2021, a Globo anunciou a saída antecipada de Fausto Silva,\n",
            "que seria substituído por Tiago Leifert até janeiro, quando Luciano Huck assumiria o comando do\n",
            "programa, porém o início de Huck foi antecipado, e o apresentador estreou em 5 de setembro de 2021.\n",
            "--------------------------------------------------\n",
            "--------------------------------------------------\n",
            "Réveillon do Faustão Em 31 de dezembro de 1991 estreou na TV Globo, emissora apresentando o programa\n",
            "de auditório Réveillon do Faustão, que foi produzido até 1996, nas noites da véspera de ano-novo. Na\n",
            "madrugada de 1 de janeiro de 2022, foi exibida na Rede Bandeirantes o Viradão do Faustão, sua\n",
            "primeira aparição na Rede Bandeirantes e uma prévia do que viria a acontecer no Faustão na Band.\n",
            "--------------------------------------------------\n",
            "--------------------------------------------------\n",
            "Faustão na Band Faustão na Band é o nome do programa de auditório comandado por Fausto Silva em seu\n",
            "retorno à Rede Bandeirantes. A atração estreou em 17 de janeiro de 2022 e apresenta quadros\n",
            "clássicos do seu programa anterior na Globo, como o Videocassetadas, agora com o nome de Cassetadas\n",
            "do Faustão, além de outros inéditos, e mantendo a presença das bailarinas no palco. O programa, que\n",
            "é previamente gravado, ocupa a faixa das 20h30 às 22h45 da emissora. De acordo com o jornal O Globo,\n",
            "Faustão faturava R$ 5 milhões por mês na TV Globo em seu ultimo ano na empresa. Já a revista Veja\n",
            "afirma que o apresentador recebia R$ 3 milhões mensais na Rede Bandeirantes. Em 18 de maio de 2023,\n",
            "foi anunciada a saída do apresentador e o fim do programa. A atração seguiu com programas inéditos\n",
            "até 18 de agosto de 2023, quando foi exibido um último programa sob o comando de Fausto, como forma\n",
            "de homenagear o apresentador. Depois, o programa seguiu sendo reprisado até que uma nova programação\n",
            "para as noites da Band foi implementada.\n",
            "--------------------------------------------------\n",
            "--------------------------------------------------\n",
            "Bordões Faustão possui o famoso bordão “ô loco, meu”, também conhecido como \"ô loco, bicho\". O\n",
            "apresentador também possui o bordão “reclames do plin-plin”, usado para referir-se aos intervalos\n",
            "comerciais. \"Esta fera aí meu\", este usado para elogiar alguém ou alguma atração de seu programa;\n",
            "além do \"quem sabe faz ao vivo!\". Há também o \"agradecendo sua audiência, sua paciência\", usado\n",
            "sempre antes do encerramento programa.\n",
            "--------------------------------------------------\n",
            "--------------------------------------------------\n",
            "Vida pessoal Fausto Silva nasceu no interior de São Paulo, possuindo formação católica, filho de\n",
            "Maury Correia da Silva e Cordélia Morais. É torcedor do Santos Futebol Clube. Casou-se pela primeira\n",
            "vez com Lucia Helena, com quem permaneceu por dez anos. Em seguida, Fausto foi casado por dez anos\n",
            "com a artista plástica e ex-modelo Magda Colares, com quem teve uma filha, Lara. Atualmente é casado\n",
            "com Luciana Cardoso, ex-modelo e jornalista, que é 27 anos mais nova que Fausto, e com ela, ele tem\n",
            "mais dois filhos: João Guilherme e Rodrigo. Faustão tem cinco irmãs, entre elas Leonor Corrêa,\n",
            "diretora de TV, e outras quatro irmãs que se dedicaram à educação. Conhecido por raramente revelar\n",
            "as intimidades de sua vida pessoal, o apresentador, no entanto, apareceu no Instagram com sua\n",
            "esposa, Luciana, em 29 de abril de 2016, em fotos postadas por ela, em uma viagem do casal à\n",
            "Escócia.\n",
            "--------------------------------------------------\n",
            "--------------------------------------------------\n",
            "Saúde Em 5 de agosto de 2023, Faustão foi internado no Hospital Albert Einstein, após ser\n",
            "diagnosticado com insuficiência cardíaca, durante um check-up. No dia 19, publicou um vídeo dizendo:\n",
            "\"Por sorte, ainda não morri. Estou preparado para as coisas da vida [...] Eu peço que quem goste de\n",
            "mim reze por mim\". Devido ao agravamento do quadro de insuficiência cardíaca, Faustão precisou de um\n",
            "transplante de coração, que foi realizado em 27 de agosto de 2023, após o apresentador aguardar na\n",
            "lista única do Sistema Nacional de Transplantes (SNT). No dia 6 e 7 de agosto de 2025, Fausto passou\n",
            "por um transplante de fígado e um retransplante renal, no Hospital Israelita Albert Einstein, em São\n",
            "Paulo. A condição financeira abastada de Faustão e celeridade com que foi contemplado com o órgão\n",
            "gerou questionamentos nas redes sociais. Houve diversos comentários insinuando que Fausto teria sido\n",
            "privilegiado de alguma forma, embora ele tenha sido priorizado pela gravidade do estado de saúde.\n",
            "Devido a gravidade iminente do seu estado de saúde, em 10 de agosto surgiram boatos de que o\n",
            "apresentador havia falecido, porém, essas notícias foram prontamente desmentidas por seu filho, João\n",
            "Silva, que afirmou que o pai se recupera muito bem e agora está extubado (isto é, sem auxílio de\n",
            "ventilação mecânica para respirar).\n",
            "--------------------------------------------------\n",
            "--------------------------------------------------\n",
            "Controvérsias Entre 2012 e 2016, Fausto Silva envolveu-se em alguns casos controversos como o caso\n",
            "da defesa de Daniel, Melhores do Ano, comentário sobre gordos, uma ligação do presidente Michel\n",
            "Temer, dente outros.\n",
            "--------------------------------------------------\n",
            "--------------------------------------------------\n",
            "Caso de racismo Em 27 de abril de 2014, Faustão teceu um comentário sobre o cabelo black power da\n",
            "dançarina Arielle Macedo, bailarina da cantora Anitta. Na ocasião, ele disse que ela tinha \"cabelo\n",
            "de vassoura de bruxa\". No domingo seguinte, ele se explicou:\n",
            "--------------------------------------------------\n",
            "--------------------------------------------------\n",
            "A dançarina postou em sua conta pessoal do Facebook, na mesma semana, um texto a respeito do\n",
            "comentário de Fausto. Ela apagou o comentário alguns dias depois de publicá-lo:\n",
            "--------------------------------------------------\n",
            "--------------------------------------------------\n",
            "O ex-diretor-geral do Domingão, Alberto Luchetti, fez acusações graves a Fausto Silva, numa\n",
            "entrevista ao repórter Valmir Moratelli, da revista “Veja”. Segundo Alberto Luchetti: \"Uma moça,\n",
            "Angela Sander, de tão perseguida por ele [Faustão], tomou remédio e cometeu suicídio. Foi uma\n",
            "desgraça que a Globo tentou esconder por todos os meios. Eu já estava fora. Ela estava tão\n",
            "desesperada, ele humilhou tanto ela, que um dia tomou remédio, foi dormir e não acordou mais”.\n",
            "Alberto continuou: \"O assédio dele era o seguinte: tinha o costume de esculhambar a produção no ar e\n",
            "de pedir desculpa em particular. Criticava o trabalho em rede nacional. O que ele fazia com o\n",
            "Caçulinha era de chorar! Ele o humilhava, dizia que ele não sabia tocar [teclado], que era\n",
            "ultrapassado. Falou tanto que a Globo tirou ele\".\n",
            "--------------------------------------------------\n",
            "--------------------------------------------------\n",
            "Imagem pública Frases e bordões Faustão é conhecido por possuir um repertório de frases e bordões,\n",
            "que se popularizaram entre o público ao longo dos anos, como \"Ô loco, meu!\", \"Essa fera aí, meu!\",\n",
            "\"Reclames do Plim-Plim\", e \"Quem sabe faz ao vivo!\". Esses bordões são expressões que ele usava\n",
            "frequentemente no Domingão do Faustão e que ficaram associados à sua figura e ao seu estilo de\n",
            "apresentar.\n",
            "--------------------------------------------------\n",
            "--------------------------------------------------\n",
            "\"Ô loco, meu!\": Exclamação de surpresa ou espanto, muitas vezes usada para comentar situações\n",
            "inusitadas ou engraçadas. \"Essa fera aí, meu!\": Usado para elogiar pessoas ou atrações consideradas\n",
            "talentosas ou especiais. \"Reclames do Plim-Plim\": Uma forma divertida de se referir aos intervalos\n",
            "comerciais da Globo, usando o som do \"Plim-Plim\" como referência ao som da emissora. \"Quem sabe faz\n",
            "ao vivo!\": Frase que ele usava quando um artista realizava uma performance inesperada ou desafiava a\n",
            "si mesmo no palco. \"Agradecendo sua audiência, sua paciência\": Frase usada no final do programa para\n",
            "agradecer aos telespectadores. \"Sócio do Perdidos\": Uma expressão que se refere a pessoas que\n",
            "participavam do programa Perdidos na Noite, programa que Faustão apresentou antes de ir para a\n",
            "Globo.\n",
            "--------------------------------------------------\n",
            "--------------------------------------------------\n",
            "Memes na internet Desde o começo da década de 2010, o apresentador vem tendo seus bordões e trechos\n",
            "de seus programas reproduzidos em memes na internet. Dentre os mais conhecidos está o “Errou!” que o\n",
            "apresentador disse em um programa de 2011, no qual uma participante da gincana respondeu uma\n",
            "pergunta de maneira errada. Outros memes vêm dos bordões do filme O Inspetor Faustão e o Malandro\n",
            "(1991), como “Você destruiu o meu ovo!”. Outro momento de Fausto Silva que viralizou na internet foi\n",
            "em uma edição do \"Domingão do Faustão\", quando um convidado do programa foi apresentar sua invenção\n",
            "que era uma churrasqueira e, segundo ele, funcionaria por meio de um controle remoto  porém, ao\n",
            "ligar o aparelho houve um curto circuito e a churrasqueira começou a pegar fogo. Então Faustão\n",
            "gritou \"Tá pegando fogo bicho!\". Com a chegada da Internet essa cena viralizou, inspirando diversos\n",
            "memes e a frase dita por Faustão foi popularizada. Um formato de meme muito difundido, que utiliza o\n",
            "Faustão como tema principal é o que simula uma narração ou reação possível do apresentador para um\n",
            "determinado trailer de filme. O meme é composto por áudios de frases ditas pelo apresentador que são\n",
            "editados por cima de vídeos de trailers, como os de \"Star Wars: O despertar da Força\", Vingadores:\n",
            "Guerra Infinita e Animais Fantásticos e onde Habitam. Há também um meme, um pouco menos usual, onde\n",
            "se atribui o horário \"20:07\" (oito e sete) à figura do apresentador, tendo em vista que ele tinha\n",
            "como costume informar o horário em vários momentos durante seu programa e que esse horário\n",
            "teoricamente foi um dos horários mais repetidos pelo apresentador em seus programas. Esse meme foi\n",
            "utilizado também em programas de humor como \"Cala a Boca, Piangers\", do portal Kzuka, e também pelo\n",
            "quadro de humor \"Trupe 08:07\", encabeçado por Christian Figueiredo e outros. O apresentador também é\n",
            "citado em uma fanfic, segundo a qual a atriz e cantora Selena Gomez teria se apaixonado por ele em\n",
            "uma visita ao Brasil.\n",
            "--------------------------------------------------\n",
            "--------------------------------------------------\n",
            "Filmografia Televisão Como apresentador\n",
            "--------------------------------------------------\n",
            "--------------------------------------------------\n",
            "Outras aparições\n",
            "--------------------------------------------------\n",
            "--------------------------------------------------\n",
            "Cinema Rádio Notas e referências Notas Referências\n",
            "--------------------------------------------------\n",
            "--------------------------------------------------\n",
            " == Ligações externas ==\n",
            "--------------------------------------------------\n"
          ]
        }
      ]
    },
    {
      "cell_type": "code",
      "source": [
        "# Inicializa o modelo de embeddings da SentenceTransformer\n",
        "# \"Alibaba-NLP/gte-base-en-v1.5\" é o modelo usado para gerar vetores semânticos de alta qualidade\n",
        "# trust_remote_code=True permite carregar código remoto do modelo caso necessário\n",
        "embedding_model = SentenceTransformer(\"Alibaba-NLP/gte-base-en-v1.5\", trust_remote_code=True)\n",
        "\n",
        "# Gera embeddings para todos os parágrafos da Wikipedia\n",
        "# normalize_embeddings=True faz a normalização dos vetores, útil para cálculo de similaridade por cosseno\n",
        "embedded_paragraphs = embedding_model.encode(paragraphs, normalize_embeddings=True)\n",
        "\n",
        "# Mostra a quantidade de parágrafos e o tamanho dos vetores gerados\n",
        "# embedded_paragraphs.shape retorna (num_paragraphs, embedding_dimension)\n",
        "print(\"Number of paragraphs and vector sizes: \", embedded_paragraphs.shape)"
      ],
      "metadata": {
        "colab": {
          "base_uri": "https://localhost:8080/"
        },
        "id": "o8xFaH8WJ2Nx",
        "outputId": "4524ae94-ef21-426a-a219-eed5ff819ddf"
      },
      "execution_count": 36,
      "outputs": [
        {
          "output_type": "stream",
          "name": "stdout",
          "text": [
            "Number of paragraphs and vector sizes:  (22, 768)\n"
          ]
        }
      ]
    },
    {
      "cell_type": "code",
      "source": [
        "# Define a pergunta que queremos responder usando o conteúdo da Wikipedia\n",
        "query = \"Quando o nosso querido Faustão foi trabalhar na Globo?\"\n",
        "\n",
        "# Gera o embedding (vetor semântico) da pergunta usando o mesmo modelo que usamos para os parágrafos\n",
        "# normalize_embeddings=True garante que o vetor esteja normalizado para cálculo de similaridade por cosseno\n",
        "query_embedded = embedding_model.encode(query, normalize_embeddings=True)\n",
        "\n",
        "# Mostra o formato do vetor gerado\n",
        "# Normalmente será (embedding_dimension,), compatível com os vetores dos parágrafos\n",
        "query_embedded.shape"
      ],
      "metadata": {
        "colab": {
          "base_uri": "https://localhost:8080/"
        },
        "id": "wLLqX6EsLGzP",
        "outputId": "184cc7e5-75c6-4bff-fff1-51f0110289f8"
      },
      "execution_count": 37,
      "outputs": [
        {
          "output_type": "execute_result",
          "data": {
            "text/plain": [
              "(768,)"
            ]
          },
          "metadata": {},
          "execution_count": 37
        }
      ]
    },
    {
      "cell_type": "code",
      "source": [
        "# Calcula a similaridade entre a pergunta e cada parágrafo usando produto escalar\n",
        "# Aqui estamos usando np.dot como alternativa à similaridade de cosseno\n",
        "# embedded_paragraphs: shape (num_paragraphs, embedding_dim)\n",
        "# query_embedded.T: shape (embedding_dim,)\n",
        "# O resultado será um vetor com uma pontuação para cada parágrafo\n",
        "similarities = np.dot(embedded_paragraphs, query_embedded.T)\n",
        "\n",
        "# Mostra o formato do vetor de similaridades\n",
        "# Espera-se (num_paragraphs,), ou seja, uma pontuação para cada parágrafo\n",
        "print(similarities.shape)\n",
        "\n",
        "# Exibe as pontuações de similaridade de todos os parágrafos\n",
        "similarities"
      ],
      "metadata": {
        "colab": {
          "base_uri": "https://localhost:8080/"
        },
        "id": "ZqWBesS_PKed",
        "outputId": "e53ccba9-e56a-410d-b842-cdb37ce05fc6"
      },
      "execution_count": 38,
      "outputs": [
        {
          "output_type": "stream",
          "name": "stdout",
          "text": [
            "(22,)\n"
          ]
        },
        {
          "output_type": "execute_result",
          "data": {
            "text/plain": [
              "array([0.6450616 , 0.4713364 , 0.49568436, 0.5731863 , 0.50807613,\n",
              "       0.660562  , 0.61118793, 0.57909775, 0.54875356, 0.5031643 ,\n",
              "       0.523284  , 0.555702  , 0.57654464, 0.51517695, 0.58812165,\n",
              "       0.6359531 , 0.48171517, 0.5156719 , 0.3162569 , 0.47418648,\n",
              "       0.36744577, 0.444391  ], dtype=float32)"
            ]
          },
          "metadata": {},
          "execution_count": 38
        }
      ]
    },
    {
      "cell_type": "code",
      "source": [
        "# Encontra os índices dos 3 parágrafos mais relevantes\n",
        "# np.argsort retorna os índices que ordenariam o array de similaridades\n",
        "# [-3:] pega os 3 últimos (maior similaridade) e [::-1] inverte para ordem decrescente\n",
        "top_3_idx = np.argsort(similarities, axis=0)[-3:][::-1].tolist()\n",
        "\n",
        "# Recupera os parágrafos correspondentes aos 3 índices mais relevantes\n",
        "most_similiar_paragraphs = [paragraphs[idx] for idx in top_3_idx]"
      ],
      "metadata": {
        "id": "vOnW_UeEPey-"
      },
      "execution_count": 39,
      "outputs": []
    },
    {
      "cell_type": "code",
      "source": [
        "# Inicializa uma variável para armazenar todo o contexto que será passado para o modelo\n",
        "context = \"\"\n",
        "\n",
        "# Percorre os parágrafos mais relevantes (top 3)\n",
        "for i, p in enumerate(most_similiar_paragraphs):\n",
        "\n",
        "  # Formata o parágrafo para quebrar linhas a cada 100 caracteres\n",
        "  wrapped_text = textwrap.fill(p, width=100)\n",
        "\n",
        "  # Imprime uma linha separadora antes do parágrafo\n",
        "  print(\"-\" * 50)\n",
        "\n",
        "  # Exibe o parágrafo numerado e formatado\n",
        "  print(f\"Paragraph {i + 1}: \", wrapped_text)\n",
        "\n",
        "  # Imprime outra linha separadora depois do parágrafo\n",
        "  print(\"-\" * 50)\n",
        "\n",
        "  # Adiciona o parágrafo ao contexto final, separando-os com duas quebras de linha\n",
        "  # Esse contexto será usado pelo modelo LLM (Groq) para gerar a resposta\n",
        "  context += wrapped_text + \"\\n\\n\""
      ],
      "metadata": {
        "colab": {
          "base_uri": "https://localhost:8080/"
        },
        "id": "GCxMgVbGQN3H",
        "outputId": "723bc577-d4b7-4020-a290-8059b7f484ac"
      },
      "execution_count": 40,
      "outputs": [
        {
          "output_type": "stream",
          "name": "stdout",
          "text": [
            "--------------------------------------------------\n",
            "Paragraph 1:  Domingão do Faustão Em 26 de março de 1989, estreou na TV Globo como apresentador do programa de\n",
            "auditório Domingão do Faustão, nas tardes de domingo, com a participação de Caçulinha e Lucimara\n",
            "Parisi até 2009. O programa foi um dos que ficou mais tempo em produção pela emissora. Em maio de\n",
            "2008, chegou à milésima edição, sendo uma das atrações de maior faturamento para o canal. Em maio de\n",
            "2021 Fausto Silva assinou um contrato de cinco anos com a Rede Bandeirantes, com estreia prevista\n",
            "para janeiro de 2022. Em 17 de junho de 2021, a Globo anunciou a saída antecipada de Fausto Silva,\n",
            "que seria substituído por Tiago Leifert até janeiro, quando Luciano Huck assumiria o comando do\n",
            "programa, porém o início de Huck foi antecipado, e o apresentador estreou em 5 de setembro de 2021.\n",
            "--------------------------------------------------\n",
            "--------------------------------------------------\n",
            "Paragraph 2:  Fausto Corrêa da Silva (São Paulo, 2 de maio de 1950), popularmente conhecido como Faustão, é um\n",
            "apresentador, jornalista e radialista brasileiro. É considerado um dos maiores animadores da\n",
            "história da televisão no Brasil. Iniciou a carreira na rádio como jornalista esportivo, tendo\n",
            "posteriormente seguido para a televisão, onde consagrou-se como apresentador e conquistou uma legião\n",
            "de fãs devido ao seu carisma, sinceridade e bom humor. Nascido na cidade de São Paulo em 1950, morou\n",
            "durante a infância em várias cidades do interior paulista, até se mudar com a família para Campinas,\n",
            "onde teve suas primeiras experiências como locutor nas rádios em 1964. Durante a década de 1960,\n",
            "trabalhou assiduamente como repórter esportivo nas rádios Excelsior e Globo, cobrindo os jogos\n",
            "narrados por Osmar Santos. No ramo esportivo, chegou a viajar para a América do Sul, Europa e Arábia\n",
            "Saudita, cobrindo duas Copas do Mundo e várias edições da Copa Libertadores da América. Foi\n",
            "convidado, também, para ser repórter especial do jornal O Estado de S. Paulo, função que exerceu até\n",
            "1984. Posteriormente, recebeu um convite de Blota Júnior, tornando-se repórter de um telejornal da\n",
            "TV Record e como apresentador de um programa na Rádio Record, ampliando assim sua área de atuação e\n",
            "passando a cobrir política e tragédias, como os incêndios do Edifício Andraus e do Edifício Joelma,\n",
            "em 1972 e 1974 respectivamente. Simultaneamente, volta ao mundo dos esportes como comentarista\n",
            "esportivo da Rádio Jovem Pan e do telejornal Bom Dia São Paulo, exibido pela TV Globo. As altas\n",
            "habilidades de improviso aprendidas na rádio e o raciocínio rápido de Fausto chamaram a atenção do\n",
            "jornalista Goulart de Andrade, que o convidou para participar de um quadro do Comando da Madrugada,\n",
            "na TV Gazeta. O quadro daria origem ao Perdidos na Noite, primeiro programa de auditório apresentado\n",
            "por Fausto, exibido pela Record e posteriormente pela Rede Bandeirantes. Considerado \"lendário\", o\n",
            "programa popularizou a imagem de Faustão, que ali consagrou-se como apresentador, abusando do humor\n",
            "depreciativo e conquistando a audiência com o estilo trash e \"bagunçado\" do programa. O sucesso\n",
            "chamou a atenção de outras emissoras, fazendo Fausto se transferir para a Globo em 1989, onde\n",
            "apresentou o Domingão do Faustão, exibido ininterruptamente ao longo de três décadas. Durante trinta\n",
            "e três anos, Fausto comandou quadros populares, conquistando o público com altas doses de humor,\n",
            "sinceridade e algumas gafes, o que também o tornou popular na internet. Em 2022, Faustão surpreendeu\n",
            "o público ao não renovar seu contrato com a Globo e trasferir-se novamente para a Bandeirantes,\n",
            "apresentando o diário Faustão na Band, sendo posteriormente substituído por seu filho João Guilherme\n",
            "na apresentação do programa.\n",
            "--------------------------------------------------\n",
            "--------------------------------------------------\n",
            "Paragraph 3:  Imagem pública Frases e bordões Faustão é conhecido por possuir um repertório de frases e bordões,\n",
            "que se popularizaram entre o público ao longo dos anos, como \"Ô loco, meu!\", \"Essa fera aí, meu!\",\n",
            "\"Reclames do Plim-Plim\", e \"Quem sabe faz ao vivo!\". Esses bordões são expressões que ele usava\n",
            "frequentemente no Domingão do Faustão e que ficaram associados à sua figura e ao seu estilo de\n",
            "apresentar.\n",
            "--------------------------------------------------\n"
          ]
        }
      ]
    },
    {
      "cell_type": "code",
      "source": [
        "# Cria o prompt que será enviado ao modelo Groq\n",
        "# O prompt inclui:\n",
        "# 1. Instruções claras para o modelo (responder baseado no contexto, não inventar respostas)\n",
        "# 2. O contexto formado pelos parágrafos mais relevantes\n",
        "# 3. A pergunta que queremos responder\n",
        "prompt = f\"\"\"\n",
        "      Baseando-se no contexto abaixo, responda a pergunta.\n",
        "      Se você não souber a resposta, diga que não sabe. Não tente inventar uma resposta.\n",
        "\n",
        "      Contexto: {context}\n",
        "\n",
        "      ---\n",
        "\n",
        "      Pergunta: {query}\n",
        "\"\"\"\n",
        "\n",
        "# Chama o modelo Groq para gerar a resposta\n",
        "# model=\"moonshotai/kimi-k2-instruct\" é o modelo LLM usado\n",
        "# messages: formato de chat, aqui apenas com a mensagem do usuário\n",
        "chat_completion = client.chat.completions.create(\n",
        "    model=\"moonshotai/kimi-k2-instruct\",\n",
        "    messages=[\n",
        "        {\"role\": \"user\",\n",
        "         \"content\": prompt}\n",
        "    ],\n",
        ")\n",
        "\n",
        "# Recupera a resposta gerada pelo modelo e remove espaços extras\n",
        "response = chat_completion.choices[0].message.content.strip()\n",
        "\n",
        "# Exibe a resposta final do modelo\n",
        "print(response)"
      ],
      "metadata": {
        "colab": {
          "base_uri": "https://localhost:8080/"
        },
        "id": "rUiE17AsSNzT",
        "outputId": "a40b7518-f331-4c41-ff1c-82d71f497ead"
      },
      "execution_count": 41,
      "outputs": [
        {
          "output_type": "stream",
          "name": "stdout",
          "text": [
            "Faustão foi trabalhar na Globo em 1989.\n"
          ]
        }
      ]
    }
  ]
}